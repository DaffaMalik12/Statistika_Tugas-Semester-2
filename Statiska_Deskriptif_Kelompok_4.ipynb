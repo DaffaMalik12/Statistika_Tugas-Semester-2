{
  "nbformat": 4,
  "nbformat_minor": 0,
  "metadata": {
    "colab": {
      "provenance": [],
      "authorship_tag": "ABX9TyPPuc4BtafXS2aCktziIFMG",
      "include_colab_link": true
    },
    "kernelspec": {
      "name": "python3",
      "display_name": "Python 3"
    },
    "language_info": {
      "name": "python"
    }
  },
  "cells": [
    {
      "cell_type": "markdown",
      "metadata": {
        "id": "view-in-github",
        "colab_type": "text"
      },
      "source": [
        "<a href=\"https://colab.research.google.com/github/DaffaMalik12/Tugas-Semester-2/blob/main/Statiska_Deskriptif_Kelompok_4.ipynb\" target=\"_parent\"><img src=\"https://colab.research.google.com/assets/colab-badge.svg\" alt=\"Open In Colab\"/></a>"
      ]
    },
    {
      "cell_type": "code",
      "execution_count": null,
      "metadata": {
        "id": "MD6bSeZR_o-e"
      },
      "outputs": [],
      "source": [
        "# Deklarasi Pustaka\n",
        "import numpy as np\n",
        "import pandas as pd\n",
        "import matplotlib.pyplot as plt\n",
        "import seaborn as sns\n",
        "from scipy import stats\n",
        "import statistics\n"
      ]
    },
    {
      "cell_type": "code",
      "source": [
        "# Deklarasi Variabel\n",
        "\n",
        "# Data Kebakaran di Daerah Istimewa Yogyakarta pada tahun 2020, 2021, 2022\n",
        "x1 = [80, 17, 1]\n",
        "x2 = [136, 131, 102]\n",
        "x3 = [45, 23, 7]\n",
        "tabel = pd.DataFrame({'Kebakaran_Hutan' : x1, 'Kebakaran_Bangunan' : x2, 'Kebakaran_Lainnya' : x3})\n",
        "tabel"
      ],
      "metadata": {
        "colab": {
          "base_uri": "https://localhost:8080/",
          "height": 143
        },
        "id": "7nMTVSQ1Hwnw",
        "outputId": "4e2c4c9b-8cf9-4f10-81b5-21d46c32c436"
      },
      "execution_count": null,
      "outputs": [
        {
          "output_type": "execute_result",
          "data": {
            "text/plain": [
              "   Kebakaran_Hutan  Kebakaran_Bangunan  Kebakaran_Lainnya\n",
              "0               80                 136                 45\n",
              "1               17                 131                 23\n",
              "2                1                 102                  7"
            ],
            "text/html": [
              "\n",
              "  <div id=\"df-78f72f23-59b0-421a-b99b-6e16d2e90306\">\n",
              "    <div class=\"colab-df-container\">\n",
              "      <div>\n",
              "<style scoped>\n",
              "    .dataframe tbody tr th:only-of-type {\n",
              "        vertical-align: middle;\n",
              "    }\n",
              "\n",
              "    .dataframe tbody tr th {\n",
              "        vertical-align: top;\n",
              "    }\n",
              "\n",
              "    .dataframe thead th {\n",
              "        text-align: right;\n",
              "    }\n",
              "</style>\n",
              "<table border=\"1\" class=\"dataframe\">\n",
              "  <thead>\n",
              "    <tr style=\"text-align: right;\">\n",
              "      <th></th>\n",
              "      <th>Kebakaran_Hutan</th>\n",
              "      <th>Kebakaran_Bangunan</th>\n",
              "      <th>Kebakaran_Lainnya</th>\n",
              "    </tr>\n",
              "  </thead>\n",
              "  <tbody>\n",
              "    <tr>\n",
              "      <th>0</th>\n",
              "      <td>80</td>\n",
              "      <td>136</td>\n",
              "      <td>45</td>\n",
              "    </tr>\n",
              "    <tr>\n",
              "      <th>1</th>\n",
              "      <td>17</td>\n",
              "      <td>131</td>\n",
              "      <td>23</td>\n",
              "    </tr>\n",
              "    <tr>\n",
              "      <th>2</th>\n",
              "      <td>1</td>\n",
              "      <td>102</td>\n",
              "      <td>7</td>\n",
              "    </tr>\n",
              "  </tbody>\n",
              "</table>\n",
              "</div>\n",
              "      <button class=\"colab-df-convert\" onclick=\"convertToInteractive('df-78f72f23-59b0-421a-b99b-6e16d2e90306')\"\n",
              "              title=\"Convert this dataframe to an interactive table.\"\n",
              "              style=\"display:none;\">\n",
              "        \n",
              "  <svg xmlns=\"http://www.w3.org/2000/svg\" height=\"24px\"viewBox=\"0 0 24 24\"\n",
              "       width=\"24px\">\n",
              "    <path d=\"M0 0h24v24H0V0z\" fill=\"none\"/>\n",
              "    <path d=\"M18.56 5.44l.94 2.06.94-2.06 2.06-.94-2.06-.94-.94-2.06-.94 2.06-2.06.94zm-11 1L8.5 8.5l.94-2.06 2.06-.94-2.06-.94L8.5 2.5l-.94 2.06-2.06.94zm10 10l.94 2.06.94-2.06 2.06-.94-2.06-.94-.94-2.06-.94 2.06-2.06.94z\"/><path d=\"M17.41 7.96l-1.37-1.37c-.4-.4-.92-.59-1.43-.59-.52 0-1.04.2-1.43.59L10.3 9.45l-7.72 7.72c-.78.78-.78 2.05 0 2.83L4 21.41c.39.39.9.59 1.41.59.51 0 1.02-.2 1.41-.59l7.78-7.78 2.81-2.81c.8-.78.8-2.07 0-2.86zM5.41 20L4 18.59l7.72-7.72 1.47 1.35L5.41 20z\"/>\n",
              "  </svg>\n",
              "      </button>\n",
              "      \n",
              "  <style>\n",
              "    .colab-df-container {\n",
              "      display:flex;\n",
              "      flex-wrap:wrap;\n",
              "      gap: 12px;\n",
              "    }\n",
              "\n",
              "    .colab-df-convert {\n",
              "      background-color: #E8F0FE;\n",
              "      border: none;\n",
              "      border-radius: 50%;\n",
              "      cursor: pointer;\n",
              "      display: none;\n",
              "      fill: #1967D2;\n",
              "      height: 32px;\n",
              "      padding: 0 0 0 0;\n",
              "      width: 32px;\n",
              "    }\n",
              "\n",
              "    .colab-df-convert:hover {\n",
              "      background-color: #E2EBFA;\n",
              "      box-shadow: 0px 1px 2px rgba(60, 64, 67, 0.3), 0px 1px 3px 1px rgba(60, 64, 67, 0.15);\n",
              "      fill: #174EA6;\n",
              "    }\n",
              "\n",
              "    [theme=dark] .colab-df-convert {\n",
              "      background-color: #3B4455;\n",
              "      fill: #D2E3FC;\n",
              "    }\n",
              "\n",
              "    [theme=dark] .colab-df-convert:hover {\n",
              "      background-color: #434B5C;\n",
              "      box-shadow: 0px 1px 3px 1px rgba(0, 0, 0, 0.15);\n",
              "      filter: drop-shadow(0px 1px 2px rgba(0, 0, 0, 0.3));\n",
              "      fill: #FFFFFF;\n",
              "    }\n",
              "  </style>\n",
              "\n",
              "      <script>\n",
              "        const buttonEl =\n",
              "          document.querySelector('#df-78f72f23-59b0-421a-b99b-6e16d2e90306 button.colab-df-convert');\n",
              "        buttonEl.style.display =\n",
              "          google.colab.kernel.accessAllowed ? 'block' : 'none';\n",
              "\n",
              "        async function convertToInteractive(key) {\n",
              "          const element = document.querySelector('#df-78f72f23-59b0-421a-b99b-6e16d2e90306');\n",
              "          const dataTable =\n",
              "            await google.colab.kernel.invokeFunction('convertToInteractive',\n",
              "                                                     [key], {});\n",
              "          if (!dataTable) return;\n",
              "\n",
              "          const docLinkHtml = 'Like what you see? Visit the ' +\n",
              "            '<a target=\"_blank\" href=https://colab.research.google.com/notebooks/data_table.ipynb>data table notebook</a>'\n",
              "            + ' to learn more about interactive tables.';\n",
              "          element.innerHTML = '';\n",
              "          dataTable['output_type'] = 'display_data';\n",
              "          await google.colab.output.renderOutput(dataTable, element);\n",
              "          const docLink = document.createElement('div');\n",
              "          docLink.innerHTML = docLinkHtml;\n",
              "          element.appendChild(docLink);\n",
              "        }\n",
              "      </script>\n",
              "    </div>\n",
              "  </div>\n",
              "  "
            ]
          },
          "metadata": {},
          "execution_count": 6
        }
      ]
    },
    {
      "cell_type": "code",
      "source": [
        "# Menghitung Standar Deviasi Data_Kebakaran_Hutan\n",
        "Data_Kebakaran_Hutan = [80, 17, 1,]\n",
        "\n",
        "standar_deviasi = statistics.stdev(Data_Kebakaran_Hutan)\n",
        "\n",
        "print(\"Standar deviasi:\", standar_deviasi)"
      ],
      "metadata": {
        "colab": {
          "base_uri": "https://localhost:8080/"
        },
        "id": "CpL1PpRZS-Ik",
        "outputId": "2f0c3bd6-3771-461c-982c-8d7b3466cfdb"
      },
      "execution_count": null,
      "outputs": [
        {
          "output_type": "stream",
          "name": "stdout",
          "text": [
            "Standar deviasi: 41.76521678781679\n"
          ]
        }
      ]
    },
    {
      "cell_type": "code",
      "source": [
        "# Menghitung Standar Deviasi Data_Kebakaran_Bangunan\n",
        "\n",
        "Data_Kebakaran_Bangunan = [136, 131, 102,]\n",
        "\n",
        "standar_deviasi = statistics.stdev(Data_Kebakaran_Bangunan)\n",
        "\n",
        "print(\"Standar deviasi:\", standar_deviasi)"
      ],
      "metadata": {
        "colab": {
          "base_uri": "https://localhost:8080/"
        },
        "id": "Hw139ckISIuZ",
        "outputId": "4cd97b06-f004-42c4-d6ef-1a8aa200f81d"
      },
      "execution_count": null,
      "outputs": [
        {
          "output_type": "stream",
          "name": "stdout",
          "text": [
            "Standar deviasi: 18.35755975068582\n"
          ]
        }
      ]
    },
    {
      "cell_type": "code",
      "source": [
        "# Menghitung Standar Deviasi Data_Kebakaran_Lainnya\n",
        "\n",
        "Data_Kebakaran_Lainnya = [45, 23, 7,]\n",
        " \n",
        "standar_deviasi = statistics.stdev(Data_Kebakaran_Lainnya)\n",
        "\n",
        "print(\"Standar deviasi:\", standar_deviasi)"
      ],
      "metadata": {
        "colab": {
          "base_uri": "https://localhost:8080/"
        },
        "id": "gMPMsXHOSZde",
        "outputId": "684ea5f4-c669-4e44-8146-d7000ac29734"
      },
      "execution_count": null,
      "outputs": [
        {
          "output_type": "stream",
          "name": "stdout",
          "text": [
            "Standar deviasi: 19.078784028338912\n"
          ]
        }
      ]
    },
    {
      "cell_type": "code",
      "source": [
        "# Menghitung Mean Data Kebakaran Hutan\n",
        "Data_Kebakaran_Hutan = [80, 17, 1,]\n",
        "\n",
        "mean_value = statistics.mean(Data_Kebakaran_Hutan)\n",
        "\n",
        "print(\"Mean:\", mean_value)"
      ],
      "metadata": {
        "colab": {
          "base_uri": "https://localhost:8080/"
        },
        "id": "fblrZ9DSNC7c",
        "outputId": "08b141c9-1889-4e13-8f4c-6cd7397078a1"
      },
      "execution_count": null,
      "outputs": [
        {
          "output_type": "stream",
          "name": "stdout",
          "text": [
            "Mean: 32.666666666666664\n"
          ]
        }
      ]
    },
    {
      "cell_type": "code",
      "source": [
        "# Menghitung Mean Data Kebakaran Bangunan\n",
        "Data_Kebakaran_Bangunan = [136, 131, 102,]\n",
        "\n",
        "mean_value = statistics.mean(Data_Kebakaran_Bangunan)\n",
        "\n",
        "print(\"Mean:\", mean_value)"
      ],
      "metadata": {
        "colab": {
          "base_uri": "https://localhost:8080/"
        },
        "id": "RTcJG0KMSpd3",
        "outputId": "520a7ad0-d1a6-4b20-bbd1-c812e4c4d7ea"
      },
      "execution_count": null,
      "outputs": [
        {
          "output_type": "stream",
          "name": "stdout",
          "text": [
            "Mean: 123\n"
          ]
        }
      ]
    },
    {
      "cell_type": "code",
      "source": [
        "# Menghitung Mean Data Kebakaran Lainnya\n",
        "Data_Kebakaran_Lainnya = [45, 23, 7,]\n",
        "\n",
        "mean_value = statistics.mean(Data_Kebakaran_Lainnya)\n",
        "\n",
        "print(\"Mean:\", mean_value)"
      ],
      "metadata": {
        "colab": {
          "base_uri": "https://localhost:8080/"
        },
        "id": "AYzSuPUQS31y",
        "outputId": "958ac8b1-58ca-4d1e-d768-a3d3ffad17b7"
      },
      "execution_count": null,
      "outputs": [
        {
          "output_type": "stream",
          "name": "stdout",
          "text": [
            "Mean: 25\n"
          ]
        }
      ]
    },
    {
      "cell_type": "code",
      "source": [
        "# Menghitung Varian Data Kebakaran Hutan\n",
        "Data_Kebakaran_Hutan = [80, 17, 1,]\n",
        "\n",
        "\n",
        "variance_value = statistics.variance(Data_Kebakaran_Hutan)\n",
        "\n",
        "print(\"Varians:\", variance_value)"
      ],
      "metadata": {
        "colab": {
          "base_uri": "https://localhost:8080/"
        },
        "id": "xNgTljBINfmw",
        "outputId": "02eef2ec-90fe-4c6a-cc78-3dfc4b2c6271"
      },
      "execution_count": null,
      "outputs": [
        {
          "output_type": "stream",
          "name": "stdout",
          "text": [
            "Varians: 1744.3333333333333\n"
          ]
        }
      ]
    },
    {
      "cell_type": "code",
      "source": [
        "# Menghitung Varian Data Kebakaran Tahun Bangunan\n",
        "Data_Kebakaran_Bangunan = [136, 131, 102,]\n",
        "\n",
        "variance_value = statistics.variance(Data_Kebakaran_Bangunan)\n",
        "\n",
        "print(\"Varians:\", variance_value)"
      ],
      "metadata": {
        "colab": {
          "base_uri": "https://localhost:8080/"
        },
        "id": "GTePYrs1TKEI",
        "outputId": "7bdae9d6-5616-4bb3-ed50-70678ddd8838"
      },
      "execution_count": null,
      "outputs": [
        {
          "output_type": "stream",
          "name": "stdout",
          "text": [
            "Varians: 337\n"
          ]
        }
      ]
    },
    {
      "cell_type": "code",
      "source": [
        "# Menghitung Varian Data Kebakaran Tahun Lainnya \n",
        "\n",
        "Data_Kebakaran_Lainnya = [45, 23, 7,]\n",
        "\n",
        "variance_value = statistics.variance(Data_Kebakaran_Lainnya)\n",
        "\n",
        "print(\"Varians:\", variance_value)"
      ],
      "metadata": {
        "colab": {
          "base_uri": "https://localhost:8080/"
        },
        "id": "vGBHYbeETZap",
        "outputId": "d07f63d6-0590-46ea-d07f-055ebc75e22c"
      },
      "execution_count": null,
      "outputs": [
        {
          "output_type": "stream",
          "name": "stdout",
          "text": [
            "Varians: 364\n"
          ]
        }
      ]
    },
    {
      "cell_type": "code",
      "source": [
        "# Menghitung Modus Data kebakaran Hutan\n",
        "Data_Kebakaran_Hutan = [80, 17, 1,]\n",
        "\n",
        "mode_value = statistics.mode(Data_Kebakaran_Hutan)\n",
        "\n",
        "print(\"Modus:\", mode_value)"
      ],
      "metadata": {
        "colab": {
          "base_uri": "https://localhost:8080/"
        },
        "id": "atsoPfDBODKe",
        "outputId": "8ab85df2-d1ce-470d-95a8-f2ecb9af3749"
      },
      "execution_count": null,
      "outputs": [
        {
          "output_type": "stream",
          "name": "stdout",
          "text": [
            "Modus: 80\n"
          ]
        }
      ]
    },
    {
      "cell_type": "code",
      "source": [
        "# Menghitung Modus Data kebakran Bangunan\n",
        "Data_Kebakaran_Bangunan = [136, 131, 102,]\n",
        "\n",
        "mode_value = statistics.mode(Data_Kebakaran_Bangunan)\n",
        "\n",
        "print(\"Modus:\", mode_value)"
      ],
      "metadata": {
        "colab": {
          "base_uri": "https://localhost:8080/"
        },
        "id": "iWwwHnfBTwyL",
        "outputId": "17cfeb0a-77bb-4ce7-cff9-2b7e8fa0fd29"
      },
      "execution_count": null,
      "outputs": [
        {
          "output_type": "stream",
          "name": "stdout",
          "text": [
            "Modus: 136\n"
          ]
        }
      ]
    },
    {
      "cell_type": "code",
      "source": [
        "# Menghitung Modus Data kebakran Lainnya\n",
        "Data_Kebakaran_Lainnya = [45, 23, 7,]\n",
        "\n",
        "mode_value = statistics.mode(Data_Kebakaran_Lainnya)\n",
        "\n",
        "print(\"Modus:\", mode_value)"
      ],
      "metadata": {
        "colab": {
          "base_uri": "https://localhost:8080/"
        },
        "id": "iyMrfKkvTxue",
        "outputId": "cc16c623-0966-4919-c06f-6aa9b49b8fb9"
      },
      "execution_count": null,
      "outputs": [
        {
          "output_type": "stream",
          "name": "stdout",
          "text": [
            "Modus: 45\n"
          ]
        }
      ]
    },
    {
      "cell_type": "code",
      "source": [
        "# Menghitung Quartil Kebakaran Hutan Pertahun\n",
        "Data_Kebakaran_Hutan = [80, 17, 1,]\n",
        "\n",
        "\n",
        "q1 = np.percentile(Data_Kebakaran_Hutan, 25)\n",
        "median = np.percentile(Data_Kebakaran_Hutan, 50)\n",
        "q3 = np.percentile(Data_Kebakaran_Hutan, 75)\n",
        "q4 = np.percentile(Data_Kebakaran_Hutan,100)\n",
        "\n",
        "print(\"Quartil 1 (Q1):\", q1)\n",
        "print(\"Median (Quartil 2):\", median)\n",
        "print(\"Quartil 3 (Q3):\", q3)\n",
        "print(\"Quartil 4 (Q3):\", q4)"
      ],
      "metadata": {
        "colab": {
          "base_uri": "https://localhost:8080/"
        },
        "id": "6sERJiB7Oz2n",
        "outputId": "a4f0b35d-f6e4-48a1-dce1-b72b57c1c34b"
      },
      "execution_count": null,
      "outputs": [
        {
          "output_type": "stream",
          "name": "stdout",
          "text": [
            "Quartil 1 (Q1): 9.0\n",
            "Median (Quartil 2): 17.0\n",
            "Quartil 3 (Q3): 48.5\n",
            "Quartil 4 (Q3): 80.0\n"
          ]
        }
      ]
    },
    {
      "cell_type": "code",
      "source": [
        "# Menghitung Quartil Kebakaran Bangunan Pertahun\n",
        "Data_Kebakaran_Bangunan= [136, 131, 102,]\n",
        "\n",
        "q1 = np.percentile(Data_Kebakaran_Bangunan, 25)\n",
        "median = np.percentile(Data_Kebakaran_Bangunan, 50)\n",
        "q3 = np.percentile(Data_Kebakaran_Bangunan, 75)\n",
        "q4 = np.percentile(Data_Kebakaran_Bangunan,100)\n",
        "\n",
        "print(\"Quartil 1 (Q1):\", q1)\n",
        "print(\"Median (Quartil 2):\", median)\n",
        "print(\"Quartil 3 (Q3):\", q3)\n",
        "print(\"Quartil 4 (Q4):\", q4)"
      ],
      "metadata": {
        "colab": {
          "base_uri": "https://localhost:8080/"
        },
        "id": "Nwxs5LB-Pa0v",
        "outputId": "5f5bcbdb-a0c0-4d2a-ad0f-c1a99b76af98"
      },
      "execution_count": null,
      "outputs": [
        {
          "output_type": "stream",
          "name": "stdout",
          "text": [
            "Quartil 1 (Q1): 116.5\n",
            "Median (Quartil 2): 131.0\n",
            "Quartil 3 (Q3): 133.5\n",
            "Quartil 4 (Q4): 136.0\n"
          ]
        }
      ]
    },
    {
      "cell_type": "code",
      "source": [
        "# Menghitung Quartil Kebakaran Lainnya Pertahun\n",
        "Data_Kebakaran_Lainnya =  [45, 23, 7]\n",
        "\n",
        "\n",
        "q1 = np.percentile(Data_Kebakaran_Lainnya, 25)\n",
        "median = np.percentile(Data_Kebakaran_Lainnya, 50)\n",
        "q3 = np.percentile(Data_Kebakaran_Lainnya, 75)\n",
        "q4 = np.percentile(Data_Kebakaran_Lainnya,100)\n",
        "\n",
        "print(\"Quartil 1 (Q1):\", q1)\n",
        "print(\"Median (Quartil 2):\", median)\n",
        "print(\"Quartil 3 (Q3):\", q3)\n",
        "print(\"Quartil 4 (Q4):\", q4)"
      ],
      "metadata": {
        "colab": {
          "base_uri": "https://localhost:8080/"
        },
        "id": "o1cVFuxFPrPA",
        "outputId": "bf79f745-5d5c-4b09-b0a4-c4956e468901"
      },
      "execution_count": null,
      "outputs": [
        {
          "output_type": "stream",
          "name": "stdout",
          "text": [
            "Quartil 1 (Q1): 15.0\n",
            "Median (Quartil 2): 23.0\n",
            "Quartil 3 (Q3): 34.0\n",
            "Quartil 4 (Q4): 45.0\n"
          ]
        }
      ]
    },
    {
      "cell_type": "code",
      "source": [
        "# Tabel Keseluruhan \n",
        "tabel.describe()"
      ],
      "metadata": {
        "colab": {
          "base_uri": "https://localhost:8080/",
          "height": 300
        },
        "id": "rG7s-ByMVFM2",
        "outputId": "43923e2b-97e7-467f-9b1d-84bbd4314b5c"
      },
      "execution_count": null,
      "outputs": [
        {
          "output_type": "execute_result",
          "data": {
            "text/plain": [
              "       Kebakaran_Hutan  Kebakaran_Bangunan  Kebakaran_Lainnya\n",
              "count         3.000000             3.00000           3.000000\n",
              "mean         32.666667           123.00000          25.000000\n",
              "std          41.765217            18.35756          19.078784\n",
              "min           1.000000           102.00000           7.000000\n",
              "25%           9.000000           116.50000          15.000000\n",
              "50%          17.000000           131.00000          23.000000\n",
              "75%          48.500000           133.50000          34.000000\n",
              "max          80.000000           136.00000          45.000000"
            ],
            "text/html": [
              "\n",
              "  <div id=\"df-02d83daf-3a56-4370-8ef4-03e6d9802643\">\n",
              "    <div class=\"colab-df-container\">\n",
              "      <div>\n",
              "<style scoped>\n",
              "    .dataframe tbody tr th:only-of-type {\n",
              "        vertical-align: middle;\n",
              "    }\n",
              "\n",
              "    .dataframe tbody tr th {\n",
              "        vertical-align: top;\n",
              "    }\n",
              "\n",
              "    .dataframe thead th {\n",
              "        text-align: right;\n",
              "    }\n",
              "</style>\n",
              "<table border=\"1\" class=\"dataframe\">\n",
              "  <thead>\n",
              "    <tr style=\"text-align: right;\">\n",
              "      <th></th>\n",
              "      <th>Kebakaran_Hutan</th>\n",
              "      <th>Kebakaran_Bangunan</th>\n",
              "      <th>Kebakaran_Lainnya</th>\n",
              "    </tr>\n",
              "  </thead>\n",
              "  <tbody>\n",
              "    <tr>\n",
              "      <th>count</th>\n",
              "      <td>3.000000</td>\n",
              "      <td>3.00000</td>\n",
              "      <td>3.000000</td>\n",
              "    </tr>\n",
              "    <tr>\n",
              "      <th>mean</th>\n",
              "      <td>32.666667</td>\n",
              "      <td>123.00000</td>\n",
              "      <td>25.000000</td>\n",
              "    </tr>\n",
              "    <tr>\n",
              "      <th>std</th>\n",
              "      <td>41.765217</td>\n",
              "      <td>18.35756</td>\n",
              "      <td>19.078784</td>\n",
              "    </tr>\n",
              "    <tr>\n",
              "      <th>min</th>\n",
              "      <td>1.000000</td>\n",
              "      <td>102.00000</td>\n",
              "      <td>7.000000</td>\n",
              "    </tr>\n",
              "    <tr>\n",
              "      <th>25%</th>\n",
              "      <td>9.000000</td>\n",
              "      <td>116.50000</td>\n",
              "      <td>15.000000</td>\n",
              "    </tr>\n",
              "    <tr>\n",
              "      <th>50%</th>\n",
              "      <td>17.000000</td>\n",
              "      <td>131.00000</td>\n",
              "      <td>23.000000</td>\n",
              "    </tr>\n",
              "    <tr>\n",
              "      <th>75%</th>\n",
              "      <td>48.500000</td>\n",
              "      <td>133.50000</td>\n",
              "      <td>34.000000</td>\n",
              "    </tr>\n",
              "    <tr>\n",
              "      <th>max</th>\n",
              "      <td>80.000000</td>\n",
              "      <td>136.00000</td>\n",
              "      <td>45.000000</td>\n",
              "    </tr>\n",
              "  </tbody>\n",
              "</table>\n",
              "</div>\n",
              "      <button class=\"colab-df-convert\" onclick=\"convertToInteractive('df-02d83daf-3a56-4370-8ef4-03e6d9802643')\"\n",
              "              title=\"Convert this dataframe to an interactive table.\"\n",
              "              style=\"display:none;\">\n",
              "        \n",
              "  <svg xmlns=\"http://www.w3.org/2000/svg\" height=\"24px\"viewBox=\"0 0 24 24\"\n",
              "       width=\"24px\">\n",
              "    <path d=\"M0 0h24v24H0V0z\" fill=\"none\"/>\n",
              "    <path d=\"M18.56 5.44l.94 2.06.94-2.06 2.06-.94-2.06-.94-.94-2.06-.94 2.06-2.06.94zm-11 1L8.5 8.5l.94-2.06 2.06-.94-2.06-.94L8.5 2.5l-.94 2.06-2.06.94zm10 10l.94 2.06.94-2.06 2.06-.94-2.06-.94-.94-2.06-.94 2.06-2.06.94z\"/><path d=\"M17.41 7.96l-1.37-1.37c-.4-.4-.92-.59-1.43-.59-.52 0-1.04.2-1.43.59L10.3 9.45l-7.72 7.72c-.78.78-.78 2.05 0 2.83L4 21.41c.39.39.9.59 1.41.59.51 0 1.02-.2 1.41-.59l7.78-7.78 2.81-2.81c.8-.78.8-2.07 0-2.86zM5.41 20L4 18.59l7.72-7.72 1.47 1.35L5.41 20z\"/>\n",
              "  </svg>\n",
              "      </button>\n",
              "      \n",
              "  <style>\n",
              "    .colab-df-container {\n",
              "      display:flex;\n",
              "      flex-wrap:wrap;\n",
              "      gap: 12px;\n",
              "    }\n",
              "\n",
              "    .colab-df-convert {\n",
              "      background-color: #E8F0FE;\n",
              "      border: none;\n",
              "      border-radius: 50%;\n",
              "      cursor: pointer;\n",
              "      display: none;\n",
              "      fill: #1967D2;\n",
              "      height: 32px;\n",
              "      padding: 0 0 0 0;\n",
              "      width: 32px;\n",
              "    }\n",
              "\n",
              "    .colab-df-convert:hover {\n",
              "      background-color: #E2EBFA;\n",
              "      box-shadow: 0px 1px 2px rgba(60, 64, 67, 0.3), 0px 1px 3px 1px rgba(60, 64, 67, 0.15);\n",
              "      fill: #174EA6;\n",
              "    }\n",
              "\n",
              "    [theme=dark] .colab-df-convert {\n",
              "      background-color: #3B4455;\n",
              "      fill: #D2E3FC;\n",
              "    }\n",
              "\n",
              "    [theme=dark] .colab-df-convert:hover {\n",
              "      background-color: #434B5C;\n",
              "      box-shadow: 0px 1px 3px 1px rgba(0, 0, 0, 0.15);\n",
              "      filter: drop-shadow(0px 1px 2px rgba(0, 0, 0, 0.3));\n",
              "      fill: #FFFFFF;\n",
              "    }\n",
              "  </style>\n",
              "\n",
              "      <script>\n",
              "        const buttonEl =\n",
              "          document.querySelector('#df-02d83daf-3a56-4370-8ef4-03e6d9802643 button.colab-df-convert');\n",
              "        buttonEl.style.display =\n",
              "          google.colab.kernel.accessAllowed ? 'block' : 'none';\n",
              "\n",
              "        async function convertToInteractive(key) {\n",
              "          const element = document.querySelector('#df-02d83daf-3a56-4370-8ef4-03e6d9802643');\n",
              "          const dataTable =\n",
              "            await google.colab.kernel.invokeFunction('convertToInteractive',\n",
              "                                                     [key], {});\n",
              "          if (!dataTable) return;\n",
              "\n",
              "          const docLinkHtml = 'Like what you see? Visit the ' +\n",
              "            '<a target=\"_blank\" href=https://colab.research.google.com/notebooks/data_table.ipynb>data table notebook</a>'\n",
              "            + ' to learn more about interactive tables.';\n",
              "          element.innerHTML = '';\n",
              "          dataTable['output_type'] = 'display_data';\n",
              "          await google.colab.output.renderOutput(dataTable, element);\n",
              "          const docLink = document.createElement('div');\n",
              "          docLink.innerHTML = docLinkHtml;\n",
              "          element.appendChild(docLink);\n",
              "        }\n",
              "      </script>\n",
              "    </div>\n",
              "  </div>\n",
              "  "
            ]
          },
          "metadata": {},
          "execution_count": 74
        }
      ]
    },
    {
      "cell_type": "code",
      "source": [
        "# Menampilkan Grafik Data Dalam Bentuk Box\n",
        "plt.boxplot([x1,x2,x3], labels = ['Kebakaran_Hutan', 'Kebakaran_Bangunan', 'Kebakaran_Lainnya'], showmeans=True);"
      ],
      "metadata": {
        "colab": {
          "base_uri": "https://localhost:8080/",
          "height": 430
        },
        "id": "B8BywimtVRwE",
        "outputId": "e1df13fc-4853-4b96-fdf5-ff4c9e918864"
      },
      "execution_count": null,
      "outputs": [
        {
          "output_type": "display_data",
          "data": {
            "text/plain": [
              "<Figure size 640x480 with 1 Axes>"
            ],
            "image/png": "[encoded data removed]"
          },
          "metadata": {}
        }
      ]
    },
    {
      "cell_type": "code",
      "source": [
        "# Menampilkan Grafik Data Dalam Bentuk Kurva (Distribusi Normal)\n",
        "x1 = stats.norm(32, 41).rvs(100)\n",
        "sns.kdeplot(x1, color='red', shade=True)\n",
        "\n",
        "x2 = stats.norm(123, 18).rvs(100)\n",
        "sns.kdeplot(x2, color='green', shade=True)\n",
        "\n",
        "x3 = stats.norm(25, 19).rvs(100)\n",
        "sns.kdeplot(x3, color='blue', shade=True)"
      ],
      "metadata": {
        "colab": {
          "base_uri": "https://localhost:8080/",
          "height": 760
        },
        "id": "j0pWU_OAVsJN",
        "outputId": "da61555d-b858-4244-e098-92815c587ae0"
      },
      "execution_count": null,
      "outputs": [
        {
          "output_type": "stream",
          "name": "stderr",
          "text": [
            "<ipython-input-10-36eb4f3f93df>:3: FutureWarning: \n",
            "\n",
            "`shade` is now deprecated in favor of `fill`; setting `fill=True`.\n",
            "This will become an error in seaborn v0.14.0; please update your code.\n",
            "\n",
            "  sns.kdeplot(x1, color='red', shade=True)\n",
            "<ipython-input-10-36eb4f3f93df>:6: FutureWarning: \n",
            "\n",
            "`shade` is now deprecated in favor of `fill`; setting `fill=True`.\n",
            "This will become an error in seaborn v0.14.0; please update your code.\n",
            "\n",
            "  sns.kdeplot(x2, color='green', shade=True)\n",
            "<ipython-input-10-36eb4f3f93df>:9: FutureWarning: \n",
            "\n",
            "`shade` is now deprecated in favor of `fill`; setting `fill=True`.\n",
            "This will become an error in seaborn v0.14.0; please update your code.\n",
            "\n",
            "  sns.kdeplot(x3, color='blue', shade=True)\n"
          ]
        },
        {
          "output_type": "execute_result",
          "data": {
            "text/plain": [
              "<Axes: ylabel='Density'>"
            ]
          },
          "metadata": {},
          "execution_count": 10
        },
        {
          "output_type": "display_data",
          "data": {
            "text/plain": [
              "<Figure size 640x480 with 1 Axes>"
            ],
            "image/png": "[encoded data removed]"
          },
          "metadata": {}
        }
      ]
    }
  ]
}